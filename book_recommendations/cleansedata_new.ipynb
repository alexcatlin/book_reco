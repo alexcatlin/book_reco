{
 "cells": [
  {
   "cell_type": "code",
   "execution_count": 3,
   "metadata": {},
   "outputs": [],
   "source": [
    "import pandas as pd"
   ]
  },
  {
   "cell_type": "code",
   "execution_count": 4,
   "metadata": {},
   "outputs": [
    {
     "name": "stdout",
     "output_type": "stream",
     "text": [
      "Reviews Dataset:\n",
      "<class 'pandas.core.frame.DataFrame'>\n",
      "RangeIndex: 3000000 entries, 0 to 2999999\n",
      "Data columns (total 10 columns):\n",
      " #   Column              Dtype  \n",
      "---  ------              -----  \n",
      " 0   Id                  object \n",
      " 1   Title               object \n",
      " 2   Price               float64\n",
      " 3   User_id             object \n",
      " 4   profileName         object \n",
      " 5   review/helpfulness  object \n",
      " 6   review/score        float64\n",
      " 7   review/time         int64  \n",
      " 8   review/summary      object \n",
      " 9   review/text         object \n",
      "dtypes: float64(2), int64(1), object(7)\n",
      "memory usage: 228.9+ MB\n",
      "None\n",
      "\n",
      "Books Details Dataset:\n",
      "<class 'pandas.core.frame.DataFrame'>\n",
      "RangeIndex: 212404 entries, 0 to 212403\n",
      "Data columns (total 10 columns):\n",
      " #   Column         Non-Null Count   Dtype  \n",
      "---  ------         --------------   -----  \n",
      " 0   Title          212403 non-null  object \n",
      " 1   description    143962 non-null  object \n",
      " 2   authors        180991 non-null  object \n",
      " 3   image          160329 non-null  object \n",
      " 4   previewLink    188568 non-null  object \n",
      " 5   publisher      136518 non-null  object \n",
      " 6   publishedDate  187099 non-null  object \n",
      " 7   infoLink       188568 non-null  object \n",
      " 8   categories     171205 non-null  object \n",
      " 9   ratingsCount   49752 non-null   float64\n",
      "dtypes: float64(1), object(9)\n",
      "memory usage: 16.2+ MB\n",
      "None\n"
     ]
    }
   ],
   "source": [
    "reviews_df = pd.read_csv(\"data/books_rating.csv\")\n",
    "\n",
    "# Load the Books Details file\n",
    "books_details_df = pd.read_csv(\"data/books_data.csv\")\n",
    "print(\"Reviews Dataset:\")\n",
    "print(reviews_df.info())\n",
    "\n",
    "\n",
    "# Explore the Books Details dataset\n",
    "print(\"\\nBooks Details Dataset:\")\n",
    "print(books_details_df.info())"
   ]
  },
  {
   "cell_type": "code",
   "execution_count": 5,
   "metadata": {},
   "outputs": [
    {
     "name": "stdout",
     "output_type": "stream",
     "text": [
      "Reviews Missing Values:\n",
      "Id                          0\n",
      "Title                     208\n",
      "Price                 2518829\n",
      "User_id                561787\n",
      "profileName            561905\n",
      "review/helpfulness          0\n",
      "review/score                0\n",
      "review/time                 0\n",
      "review/summary            407\n",
      "review/text                 8\n",
      "dtype: int64\n",
      "\n",
      "Books Details Missing Values:\n",
      "Title                 1\n",
      "description       68442\n",
      "authors           31413\n",
      "image             52075\n",
      "previewLink       23836\n",
      "publisher         75886\n",
      "publishedDate     25305\n",
      "infoLink          23836\n",
      "categories        41199\n",
      "ratingsCount     162652\n",
      "dtype: int64\n"
     ]
    }
   ],
   "source": [
    "# Check for missing values in Reviews dataset\n",
    "reviews_missing = reviews_df.isnull().sum()\n",
    "\n",
    "# Check for missing values in Books Details dataset\n",
    "books_missing = books_details_df.isnull().sum()\n",
    "\n",
    "# Display missing values\n",
    "print(\"Reviews Missing Values:\")\n",
    "print(reviews_missing)\n",
    "\n",
    "print(\"\\nBooks Details Missing Values:\")\n",
    "print(books_missing)"
   ]
  },
  {
   "cell_type": "code",
   "execution_count": 6,
   "metadata": {},
   "outputs": [
    {
     "name": "stdout",
     "output_type": "stream",
     "text": [
      "Reviews Missing Values After Handling:\n",
      "Id                    0\n",
      "Title                 0\n",
      "User_id               0\n",
      "review/helpfulness    0\n",
      "review/score          0\n",
      "review/time           0\n",
      "review/summary        0\n",
      "review/text           0\n",
      "dtype: int64\n"
     ]
    }
   ],
   "source": [
    "# Drop rows with missing 'Title' and 'User_id'\n",
    "reviews_df = reviews_df.dropna(subset=['Title', 'User_id'])\n",
    "\n",
    "# Drop 'profileName' column, we won't be using it\n",
    "reviews_df = reviews_df.drop(columns=['profileName'])\n",
    "\n",
    "# Drop 'Price' column, we won't be using it\n",
    "reviews_df = reviews_df.drop(columns=['Price'])\n",
    "\n",
    "# Fill missing values in 'review/summary' and 'review/text' with empty strings\n",
    "reviews_df['review/summary'] = reviews_df['review/summary'].fillna('')\n",
    "reviews_df['review/text'] = reviews_df['review/text'].fillna('')\n",
    "\n",
    "# Display updated information about missing values\n",
    "reviews_missing_values = reviews_df.isnull().sum()\n",
    "print(\"Reviews Missing Values After Handling:\")\n",
    "print(reviews_missing_values)"
   ]
  },
  {
   "cell_type": "code",
   "execution_count": 7,
   "metadata": {},
   "outputs": [
    {
     "name": "stdout",
     "output_type": "stream",
     "text": [
      "Books Details Missing Values After Handling:\n",
      "Title            0\n",
      "description      0\n",
      "authors          0\n",
      "publisher        0\n",
      "publishedDate    0\n",
      "categories       0\n",
      "ratingsCount     0\n",
      "dtype: int64\n"
     ]
    }
   ],
   "source": [
    "# Drop rows with missing 'Title'\n",
    "books_details_df = books_details_df.dropna(subset=['Title'])\n",
    "\n",
    "# Impute missing values in 'ratingsCount' with the median\n",
    "books_details_df['ratingsCount'] = books_details_df['ratingsCount'].fillna(books_details_df['ratingsCount'].median())\n",
    "\n",
    "# Fill missing values in textual columns with empty strings\n",
    "textual_columns = ['description', 'authors', 'publisher', 'publishedDate', 'categories']\n",
    "books_details_df[textual_columns] = books_details_df[textual_columns].fillna('')\n",
    "\n",
    "# Dropping columns we are not going to use\n",
    "columns_to_drop = ['image', 'previewLink', 'infoLink']\n",
    "books_details_df = books_details_df.drop(columns=columns_to_drop)\n",
    "\n",
    "# Display updated information about missing values\n",
    "books_details_missing_values = books_details_df.isnull().sum()\n",
    "print(\"Books Details Missing Values After Handling:\")\n",
    "print(books_details_missing_values)"
   ]
  }
 ],
 "metadata": {
  "kernelspec": {
   "display_name": "Python 3",
   "language": "python",
   "name": "python3"
  },
  "language_info": {
   "codemirror_mode": {
    "name": "ipython",
    "version": 3
   },
   "file_extension": ".py",
   "mimetype": "text/x-python",
   "name": "python",
   "nbconvert_exporter": "python",
   "pygments_lexer": "ipython3",
   "version": "3.10.13"
  }
 },
 "nbformat": 4,
 "nbformat_minor": 2
}
